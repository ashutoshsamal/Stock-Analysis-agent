{
 "cells": [
  {
   "cell_type": "code",
   "execution_count": 1,
   "id": "e7f31cb6-dcbf-4561-acd9-ab1819c63037",
   "metadata": {},
   "outputs": [
    {
     "data": {
      "text/plain": [
       "True"
      ]
     },
     "execution_count": 1,
     "metadata": {},
     "output_type": "execute_result"
    }
   ],
   "source": [
    "from tavily import TavilyClient\n",
    "from typing import Annotated, Sequence, TypedDict,Literal\n",
    "from dotenv import load_dotenv  \n",
    "from langchain_core.messages import BaseMessage # The foundational class for all message types in LangGraph\n",
    "from langchain_core.messages import ToolMessage # Passes data back to LLM after it calls a tool such as the content and the tool_call_id\n",
    "from langchain_core.messages import SystemMessage,HumanMessage # Message for providing instructions to the LLM\n",
    "from langchain_openai import ChatOpenAI\n",
    "from langchain_core.tools import tool\n",
    "from langgraph.graph.message import add_messages\n",
    "from langgraph.graph import StateGraph, END,START,MessagesState\n",
    "from langgraph.prebuilt import ToolNode\n",
    "import os\n",
    "import requests\n",
    "from bs4 import BeautifulSoup\n",
    "load_dotenv()\n"
   ]
  },
  {
   "cell_type": "code",
   "execution_count": 4,
   "id": "b3d085fa-edf0-48fd-8905-54ef3c3aeac6",
   "metadata": {},
   "outputs": [],
   "source": [
    "class SupervisorState(MessagesState):\n",
    "    \"\"\"State for the multi-agent system\"\"\"\n",
    "    next_agent: str = \"\"\n",
    "    research_data: str = \"\"\n",
    "    analysis: str = \"\"\n",
    "    final_report: str = \"\"\n",
    "    task_complete: bool = False\n",
    "    current_task: str = \"\""
   ]
  },
  {
   "cell_type": "code",
   "execution_count": 5,
   "id": "1b29764c-8d81-4b77-9bb2-05767defb83c",
   "metadata": {},
   "outputs": [],
   "source": [
    "model = ChatOpenAI(model = \"gpt-4o\")"
   ]
  },
  {
   "cell_type": "code",
   "execution_count": 4,
   "id": "a702c9c7-becc-4f9c-a7a8-8c0f1f719d6e",
   "metadata": {},
   "outputs": [
    {
     "data": {
      "text/plain": [
       "{'query': 'What is the finance of tata motors',\n",
       " 'follow_up_questions': None,\n",
       " 'answer': None,\n",
       " 'images': [],\n",
       " 'results': [{'url': 'https://finance.yahoo.com/quote/TATAMOTORS.NS/',\n",
       "   'title': 'Tata Motors Limited (TATAMOTORS.NS) - Yahoo Finance',\n",
       "   'content': '# Tata Motors Limited (TATAMOTORS.NS) ## Tata Motors Limited Overview Auto Manufacturers / Consumer Cyclical Tata Motors Limited designs, develops, manufactures, and sells various automotive vehicles. The company offers passenger cars; sports utility vehicles; intermediate and light commercial vehicles; small, medium, and heavy commercial vehicles; defense vehicles; pickups, wingers, buses, vans, and trucks; and electric vehicles, as well as related spare parts and accessories. The company offers its products under the Tata, Daewoo, Harrier, Safari, Fiat, Nexon, Altroz, Punch, Tiago, Tigor, Jaguar, and Land Rover brands. Jaguar Land Rover halts US shipments amid tariffs ### Jaguar Land Rover halts US shipments amid tariffs Price/Sales (ttm) Return on Assets (ttm) Return on Equity (ttm) Revenue (ttm)',\n",
       "   'score': 0.68748367,\n",
       "   'raw_content': None},\n",
       "  {'url': 'http://www.tmf.co.in/',\n",
       "   'title': 'Tata Motors Finance',\n",
       "   'content': '',\n",
       "   'score': 0.6158511,\n",
       "   'raw_content': None}],\n",
       " 'response_time': 1.27}"
      ]
     },
     "execution_count": 4,
     "metadata": {},
     "output_type": "execute_result"
    }
   ],
   "source": [
    "from langchain_tavily import TavilySearch\n",
    "\n",
    "tool=TavilySearch(max_results=2)\n",
    "tool.invoke(\"What is the finance of tata motors\")"
   ]
  },
  {
   "cell_type": "code",
   "execution_count": null,
   "id": "c4bb25cd-7f92-46c7-b9ab-46bec6056a68",
   "metadata": {},
   "outputs": [],
   "source": []
  }
 ],
 "metadata": {
  "kernelspec": {
   "display_name": "llm-stock",
   "language": "python",
   "name": "llm-stock"
  },
  "language_info": {
   "codemirror_mode": {
    "name": "ipython",
    "version": 3
   },
   "file_extension": ".py",
   "mimetype": "text/x-python",
   "name": "python",
   "nbconvert_exporter": "python",
   "pygments_lexer": "ipython3",
   "version": "3.12.2"
  }
 },
 "nbformat": 4,
 "nbformat_minor": 5
}
