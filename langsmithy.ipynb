{
 "cells": [
  {
   "cell_type": "code",
   "execution_count": 1,
   "id": "bc35c28a-e52d-4a58-a98b-c722c8a58fe0",
   "metadata": {},
   "outputs": [
    {
     "data": {
      "text/plain": [
       "True"
      ]
     },
     "execution_count": 1,
     "metadata": {},
     "output_type": "execute_result"
    }
   ],
   "source": [
    "from typing import Annotated\n",
    "from typing_extensions import TypedDict\n",
    "from langgraph.graph import END, START\n",
    "from langgraph.graph.state import StateGraph\n",
    "from langgraph.graph.message import add_messages\n",
    "from langgraph.prebuilt import ToolNode\n",
    "from langchain_core.tools import tool\n",
    "from langchain_core.messages import BaseMessage\n",
    "import os\n",
    "from dotenv import load_dotenv\n",
    "load_dotenv()"
   ]
  },
  {
   "cell_type": "code",
   "execution_count": 2,
   "id": "043add9a-2f65-46cb-862f-3a2b46c3c8fb",
   "metadata": {},
   "outputs": [
    {
     "data": {
      "text/plain": [
       "ChatOpenAI(client=<openai.resources.chat.completions.completions.Completions object at 0x10e1e6ae0>, async_client=<openai.resources.chat.completions.completions.AsyncCompletions object at 0x10ef38380>, root_client=<openai.OpenAI object at 0x10b29ba70>, root_async_client=<openai.AsyncOpenAI object at 0x10b5e52b0>, model_name='gpt-4o', model_kwargs={}, openai_api_key=SecretStr('**********'))"
      ]
     },
     "execution_count": 2,
     "metadata": {},
     "output_type": "execute_result"
    }
   ],
   "source": [
    "from langchain.chat_models import init_chat_model\n",
    "llm=init_chat_model(\"openai:gpt-4o\")\n",
    "llm"
   ]
  },
  {
   "cell_type": "code",
   "execution_count": 3,
   "id": "f028082b-60d7-4f30-8a98-521c204abff2",
   "metadata": {},
   "outputs": [],
   "source": [
    "class State(TypedDict):\n",
    "    messages:Annotated[list[BaseMessage],add_messages]"
   ]
  },
  {
   "cell_type": "code",
   "execution_count": 5,
   "id": "2295daa0-a198-499a-ae26-0e072d1ee58b",
   "metadata": {},
   "outputs": [],
   "source": [
    "@tool\n",
    "def add(a:float,b:float):\n",
    "    \"\"\"Add two number\"\"\"\n",
    "    return a+b\n",
    "tools=[add]\n",
    "tool_node=ToolNode([add])\n",
    "llm_with_tool=llm.bind_tools([add])\n",
    "\n",
    "def call_llm_model(state:State):\n",
    "    return {\"messages\":[llm_with_tool.invoke(state['messages'])]}"
   ]
  },
  {
   "cell_type": "code",
   "execution_count": null,
   "id": "234cd8e9-93c9-4ece-9ebb-84d7e89ac1e9",
   "metadata": {},
   "outputs": [],
   "source": []
  }
 ],
 "metadata": {
  "kernelspec": {
   "display_name": "llm-stock",
   "language": "python",
   "name": "llm-stock"
  },
  "language_info": {
   "codemirror_mode": {
    "name": "ipython",
    "version": 3
   },
   "file_extension": ".py",
   "mimetype": "text/x-python",
   "name": "python",
   "nbconvert_exporter": "python",
   "pygments_lexer": "ipython3",
   "version": "3.12.2"
  }
 },
 "nbformat": 4,
 "nbformat_minor": 5
}
