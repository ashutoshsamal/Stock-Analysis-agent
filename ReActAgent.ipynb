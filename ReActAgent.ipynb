{
 "cells": [
  {
   "cell_type": "code",
   "execution_count": 1,
   "id": "a9f1c118-b4fd-47bc-be90-44039f28f81d",
   "metadata": {},
   "outputs": [
    {
     "data": {
      "text/plain": [
       "True"
      ]
     },
     "execution_count": 1,
     "metadata": {},
     "output_type": "execute_result"
    }
   ],
   "source": [
    "from typing import Annotated, Sequence, TypedDict\n",
    "from dotenv import load_dotenv  \n",
    "from langchain_core.messages import BaseMessage # The foundational class for all message types in LangGraph\n",
    "from langchain_core.messages import ToolMessage # Passes data back to LLM after it calls a tool such as the content and the tool_call_id\n",
    "from langchain_core.messages import SystemMessage,HumanMessage # Message for providing instructions to the LLM\n",
    "from langchain_openai import ChatOpenAI\n",
    "from langchain_core.tools import tool\n",
    "from langgraph.graph.message import add_messages\n",
    "from langgraph.graph import StateGraph, END\n",
    "from langgraph.prebuilt import ToolNode\n",
    "import os\n",
    "import requests\n",
    "from bs4 import BeautifulSoup\n",
    "load_dotenv()"
   ]
  },
  {
   "cell_type": "code",
   "execution_count": 2,
   "id": "846411a5-7029-42da-9c7f-752d386e926a",
   "metadata": {},
   "outputs": [],
   "source": [
    "class AgentState(TypedDict):\n",
    "    messages: Annotated[Sequence[BaseMessage], add_messages]\n"
   ]
  },
  {
   "cell_type": "code",
   "execution_count": 3,
   "id": "6efa97d9-9d55-4449-aef7-ed52a51c3861",
   "metadata": {},
   "outputs": [],
   "source": [
    "@tool\n",
    "def get_news():\n",
    "    \"\"\"\n",
    "    This tool scrapes top headlines and detailed news content related to the stock market, companies, economy, and business\n",
    "    published today on Moneycontrol.com. It is designed to provide real-time news data for downstream summarisation and analysis \n",
    "    agents in a financial trading system.\n",
    "    \"\"\"\n",
    "\n",
    "    url = \"https://www.moneycontrol.com/news/business/stocks/\"\n",
    "    response = requests.get(url)\n",
    "\n",
    "    soup = BeautifulSoup(response.content, \"lxml\")\n",
    "    # print(soup.prettify())\n",
    "    tags=soup.find_all('p')\n",
    "    news=[]\n",
    "    for tag in tags :\n",
    "        if (str(type(tag.string)) == \"<class 'bs4.element.NavigableString'>\"\n",
    "                and len(tag.string) > 35):\n",
    "            news.append(tag.string)\n",
    "            news.append(\"###\")\n",
    "    return str(news)"
   ]
  },
  {
   "cell_type": "code",
   "execution_count": null,
   "id": "3e612cdc-72e8-4fc7-b976-0efdc3d973e8",
   "metadata": {},
   "outputs": [],
   "source": []
  },
  {
   "cell_type": "code",
   "execution_count": 4,
   "id": "c0a7d9eb-3acc-46f6-97d6-9b0e29f663b2",
   "metadata": {},
   "outputs": [],
   "source": [
    "tools = [get_news]\n",
    "\n",
    "model = ChatOpenAI(model = \"gpt-4o\").bind_tools(tools)"
   ]
  },
  {
   "cell_type": "code",
   "execution_count": 5,
   "id": "b402b05a-c903-4470-9ddb-3c97a4eabce5",
   "metadata": {},
   "outputs": [],
   "source": [
    "def stock_summarizer(state:AgentState) -> AgentState:\n",
    "    system_prompt = SystemMessage(content=\n",
    "        \"You are a financial news analyst helping a stock trading system.\"\n",
    "    )\n",
    "    response = model.invoke([system_prompt] + state[\"messages\"])\n",
    "    return {\"messages\": [response]}"
   ]
  },
  {
   "cell_type": "code",
   "execution_count": 6,
   "id": "6197c96b-3bbb-4d1d-885f-393790e41ab4",
   "metadata": {},
   "outputs": [],
   "source": [
    "def should_continue(state: AgentState): \n",
    "    messages = state[\"messages\"]\n",
    "    last_message = messages[-1]\n",
    "    if not last_message.tool_calls: \n",
    "        return \"end\"\n",
    "    else:\n",
    "        return \"continue\""
   ]
  },
  {
   "cell_type": "code",
   "execution_count": 7,
   "id": "28357108-1026-4dfb-b448-7bca40eacee9",
   "metadata": {},
   "outputs": [],
   "source": [
    "graph = StateGraph(AgentState)\n",
    "graph.add_node(\"our_agent\", stock_summarizer)\n",
    "\n",
    "\n",
    "tool_node = ToolNode(tools=tools)\n",
    "graph.add_node(\"tools\", tool_node)\n",
    "\n",
    "graph.set_entry_point(\"our_agent\")\n",
    "\n",
    "graph.add_conditional_edges(\n",
    "    \"our_agent\",\n",
    "    should_continue,\n",
    "    {\n",
    "        \"continue\": \"tools\",\n",
    "        \"end\": END,\n",
    "    },\n",
    ")\n",
    "\n",
    "graph.add_edge(\"tools\", \"our_agent\")\n",
    "\n",
    "app = graph.compile()"
   ]
  },
  {
   "cell_type": "code",
   "execution_count": null,
   "id": "a1eb07cd-89d4-49bc-aa8c-516a46b6f78c",
   "metadata": {},
   "outputs": [],
   "source": []
  },
  {
   "cell_type": "code",
   "execution_count": 8,
   "id": "611624f9-69f2-466a-9e95-a2fee747028a",
   "metadata": {},
   "outputs": [],
   "source": [
    "prompts=\"\"\"\n",
    "Your task is to summarize the following news article(s) in a **clear, concise, and fact-preserving** way. Focus only on the essential information that would be relevant for financial markets, investors, or traders.\n",
    "DO:\n",
    "- Retain key facts, numbers, dates, company names, and events\n",
    "- Write in a neutral tone (no opinions or interpretation)\n",
    "- Omit irrelevant or repetitive information\n",
    "- Avoid any kind of analysis, judgment, or sentiment\n",
    "- Use full sentences in a formal news summary style\n",
    "DO NOT:\n",
    "- Perform sentiment analysis\n",
    "- Classify or extract entities\n",
    "- Infer or hallucinate missing details\n",
    "\"\"\""
   ]
  },
  {
   "cell_type": "code",
   "execution_count": 9,
   "id": "304c09d1-9e25-47ed-a795-0ac9b50726b5",
   "metadata": {},
   "outputs": [],
   "source": [
    "inputs = {\"messages\": [(f\"user,{prompts}\")]}\n"
   ]
  },
  {
   "cell_type": "code",
   "execution_count": 10,
   "id": "a4bb3dc9-b5f9-4a21-95ca-469eae2aa039",
   "metadata": {},
   "outputs": [],
   "source": [
    "response=app.invoke(inputs)"
   ]
  },
  {
   "cell_type": "code",
   "execution_count": 12,
   "id": "769a9f20-5437-4207-9f9c-6ba5aa2f982a",
   "metadata": {},
   "outputs": [
    {
     "name": "stdout",
     "output_type": "stream",
     "text": [
      "================================\u001b[1m Human Message \u001b[0m=================================\n",
      "\n",
      "user,\n",
      "Your task is to summarize the following news article(s) in a **clear, concise, and fact-preserving** way. Focus only on the essential information that would be relevant for financial markets, investors, or traders.\n",
      "DO:\n",
      "- Retain key facts, numbers, dates, company names, and events\n",
      "- Write in a neutral tone (no opinions or interpretation)\n",
      "- Omit irrelevant or repetitive information\n",
      "- Avoid any kind of analysis, judgment, or sentiment\n",
      "- Use full sentences in a formal news summary style\n",
      "DO NOT:\n",
      "- Perform sentiment analysis\n",
      "- Classify or extract entities\n",
      "- Infer or hallucinate missing details\n",
      "\n",
      "None\n",
      "==================================\u001b[1m Ai Message \u001b[0m==================================\n",
      "Tool Calls:\n",
      "  get_news (call_yRt8ojOMZk6wpkiet0VQf6vi)\n",
      " Call ID: call_yRt8ojOMZk6wpkiet0VQf6vi\n",
      "  Args:\n",
      "None\n",
      "=================================\u001b[1m Tool Message \u001b[0m=================================\n",
      "Name: get_news\n",
      "\n",
      "[\"See the top gainers, losers, invest and get updated what's happening in the crypto market\", '###', 'This functionality will provide users with ease of access navigation and enable create a new revenue line by generating leads of potential customers for brokers in a more integrated manner.', '###', 'Considering the shareholding pattern updated at the end of June 2025, the shareholding of Adani Group in PSP Projects seems to have increased to 33.15 percent.', '###', 'All the other sectoral indices ended in the green with PSU Bank, pharma, realty, IT, metal, telecom, media, consumer durables, auto up 0.5-2.5 percent.', '###', 'Catch Nandita Khemka in conversation with Ashish Bahety, Technical and Derivative Research Analyst, ProfitMart Securities to navigate market movement.', '###', 'Motilal Oswal recommended Neutral rating on GSK Pharma with a target price of Rs 3000 in its research report dated August 02, 2025.', '###', 'Motilal Oswal is bullish on ITC recommended buy rating on the stock with a target price of Rs 500 in its research report dated August 02, 2025.', '###', 'Motilal Oswal is bullish on Tata Power recommended buy rating on the stock with a target price of Rs 487 in its research report dated August 02, 2025.', '###', 'Motilal Oswal is bullish on Federal Bank recommended buy rating on the stock with a target price of Rs 235 in its research report dated August 03, 2025.', '###', 'Motilal Oswal is bullish on Delhivery recommended buy rating on the stock with a target price of Rs 500 in its research report dated August 02, 2025.', '###', 'Bajaj Auto share price: \"EBITDA margin will decline post being stable last year, on the back of higher raw material costs and a spike in ocean freight rates,\" HDFC Securities said in a preview note.', '###', 'Hero MotoCorp share price: The company encountered production challenges in April, which disrupted output and affected dispatches.', '###', \"Shares of Mankind Pharma were trading at Rs 2,622.00, a gain of 2.17% in Monday's session.\", '###', 'Prabhudas Lilladher is bullish on Chalet Hotels has recommended buy rating on the stock with a target price of Rs 1071 in its research report dated August 04, 2025.', '###', 'Prabhudas Lilladher is bullish on Federal Bank has recommended buy rating on the stock with a target price of Rs 220 in its research report dated August 03, 2025.', '###', 'Prabhudas Lilladher is bullish on Safari Industries India has recommended buy rating on the stock with a target price of Rs 2434 in its research report dated August 02, 2025.', '###', 'Prabhudas Lilladher is bullish on ITC has recommended buy rating on the stock with a target price of Rs 530 in its research report dated August 01, 2025.', '###', 'Prabhudas Lilladher is bullish on Greenpanel Industries has recommended buy rating on the stock with a target price of Rs 374 in its research report dated August 01, 2025.', '###', 'Ather Energy Q1 Results: The shares of the company sharply rallied to a fresh 52-week high of Rs 392 apiece after the results were released.', '###', 'Prabhudas Lilladher recommended hold rating on Cholamandalam Investment and Finance Company with a target price of Rs 1500 in its research report dated August 01, 2025.', '###', 'Prabhudas Lilladher recommended hold rating on Thermax with a target price of Rs 3633 in its research report dated August 02, 2025.', '###', 'Prabhudas Lilladher recommended hold rating on Aarti Industries with a target price of Rs 420 in its research report dated August 01, 2025.', '###', 'Prabhudas Lilladher recommended Accumulate rating on Delhivery with a target price of Rs 466 in its research report dated August 04, 2025.', '###', 'Prabhudas Lilladher recommended Accumulate rating on R R Kabel with a target price of Rs 1516 in its research report dated August 01, 2025.', '###', 'Tata Investment Corporation stock split: The Tata Group company said it has approved the stock split in order to \"enhance the liquidity of Company\\'s equity shares and to encourage participation of retail investors by making equity shares of the Company more affordable\".', '###', 'Motilal Oswal is bullish on TeamLease has recommended buy rating on the stock with a target price of Rs 2200 in its research report dated July 31, 2025.', '###', 'Copyright © Network18 Media & Investments Limited. All rights reserved. Reproduction of news articles, photos, videos or any other content in whole or in part in any form or medium without express written permission of moneycontrol.com is prohibited.', '###', 'You are already a Moneycontrol Pro user.', '###']\n",
      "None\n",
      "==================================\u001b[1m Ai Message \u001b[0m==================================\n",
      "\n",
      "1. Adani Group's shareholding in PSP Projects increased to 33.15% as of June 2025.\n",
      "2. All sectoral indices ended in the green with PSU Bank, pharma, realty, IT, metal, telecom, media, consumer durables, and auto sectors up by 0.5-2.5%.\n",
      "3. Motilal Oswal has given a neutral rating to GSK Pharma with a target price of Rs 3000 and bullish ratings on ITC, Tata Power, Federal Bank, and Delhivery with respective target prices of Rs 500, Rs 487, Rs 235, and Rs 500.\n",
      "4. Bajaj Auto's EBITDA margin is expected to decline due to higher raw material costs and increased ocean freight rates.\n",
      "5. Hero MotoCorp faced production challenges in April, affecting output and dispatches.\n",
      "6. Shares of Mankind Pharma rose by 2.17% to Rs 2,622.00.\n",
      "7. Prabhudas Lilladher has given buy ratings on Chalet Hotels, Federal Bank, Safari Industries India, ITC, and Greenpanel Industries with respective target prices of Rs 1071, Rs 220, Rs 2434, Rs 530, and Rs 374.\n",
      "8. Ather Energy shares hit a 52-week high of Rs 392 following Q1 results.\n",
      "9. Prabhudas Lilladher has recommended hold ratings for Cholamandalam Investment and Finance Company, Thermax, and Aarti Industries with respective target prices of Rs 1500, Rs 3633, and Rs 420.\n",
      "10. Tata Investment Corporation approved a stock split to enhance liquidity and encourage retail investor participation.\n",
      "11. Motilal Oswal has given a buy rating to TeamLease with a target price of Rs 2200.\n",
      "None\n"
     ]
    }
   ],
   "source": [
    "for msg in response[\"messages\"]:\n",
    "    print(msg.pretty_print())"
   ]
  },
  {
   "cell_type": "code",
   "execution_count": null,
   "id": "97041bf3-4c93-4ff6-890b-20d693fec45b",
   "metadata": {},
   "outputs": [],
   "source": []
  },
  {
   "cell_type": "code",
   "execution_count": null,
   "id": "3f50ce16-b6a7-4426-9c9a-3cb69d543c51",
   "metadata": {},
   "outputs": [],
   "source": []
  }
 ],
 "metadata": {
  "kernelspec": {
   "display_name": "llm-stock",
   "language": "python",
   "name": "llm-stock"
  },
  "language_info": {
   "codemirror_mode": {
    "name": "ipython",
    "version": 3
   },
   "file_extension": ".py",
   "mimetype": "text/x-python",
   "name": "python",
   "nbconvert_exporter": "python",
   "pygments_lexer": "ipython3",
   "version": "3.12.2"
  }
 },
 "nbformat": 4,
 "nbformat_minor": 5
}
